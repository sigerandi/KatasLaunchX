{
 "cells": [
  {
   "cell_type": "markdown",
   "metadata": {},
   "source": [
    "KATA 9"
   ]
  },
  {
   "cell_type": "markdown",
   "metadata": {},
   "source": [
    "Ejercicio 1"
   ]
  },
  {
   "cell_type": "code",
   "execution_count": 9,
   "metadata": {},
   "outputs": [
    {
     "name": "stdout",
     "output_type": "stream",
     "text": [
      "Reporte de combustible:\n",
      "    Capacidad promedio: 78.33333333333333%\n",
      "    Tanque Principal: 80%\n",
      "    Tanque externo: 70%\n",
      "    Tanque de hidrógeno: 85% \n",
      "    \n"
     ]
    },
    {
     "data": {
      "text/plain": [
       "82.0"
      ]
     },
     "execution_count": 9,
     "metadata": {},
     "output_type": "execute_result"
    }
   ],
   "source": [
    "def generate_report(tanque_principal, tanque_externo, tanque_de_hidrogeno):\n",
    "    return f\"\"\"Reporte de combustible:\n",
    "    Capacidad promedio: {average([tanque_principal, tanque_externo, tanque_de_hidrogeno])}%\n",
    "    Tanque principal: {tanque_principal}%\n",
    "    Tanque externo: {tanque_externo}%\n",
    "    Tanque de hidrógeno: {tanque_de_hidrogeno}% \n",
    "    \"\"\"\n",
    "\n",
    "print(generate_report(80, 85, 81))\n",
    "\n",
    "def average(values):\n",
    "    total = sum(values)\n",
    "    number_of_items = len(values)\n",
    "    return total / number_of_items\n",
    "\n",
    "\n",
    "average([80, 85, 81]) \n",
    "\n",
    "\n",
    "\n",
    "\n"
   ]
  },
  {
   "cell_type": "code",
   "execution_count": 8,
   "metadata": {},
   "outputs": [
    {
     "name": "stdout",
     "output_type": "stream",
     "text": [
      "Reporte de combustible:\n",
      "    Capacidad promedio: 82.0%\n",
      "    Tanque principal: 80%\n",
      "    Tanque externo: 85%\n",
      "    Tanque de hidrógeno: 81% \n",
      "    \n"
     ]
    }
   ],
   "source": [
    "def generate_report(tanque_principal, tanque_externo, tanque_de_hidrogeno):\n",
    "    return f\"\"\"Reporte de combustible:\n",
    "    Capacidad promedio: {average([tanque_principal, tanque_externo, tanque_de_hidrogeno])}%\n",
    "    Tanque principal: {tanque_principal}%\n",
    "    Tanque externo: {tanque_externo}%\n",
    "    Tanque de hidrógeno: {tanque_de_hidrogeno}% \n",
    "    \"\"\"\n",
    "\n",
    "print(generate_report(80, 85, 81))"
   ]
  },
  {
   "cell_type": "markdown",
   "metadata": {},
   "source": [
    "Ejercicio 2"
   ]
  },
  {
   "cell_type": "code",
   "execution_count": 16,
   "metadata": {},
   "outputs": [
    {
     "name": "stdout",
     "output_type": "stream",
     "text": [
      "\n",
      "    Misión: Marte\n",
      "    Tiempo total de la mismión: 65 Minutos\n",
      "    Combustible disponible: 500000 galones\n",
      "    \n"
     ]
    }
   ],
   "source": [
    "def reporte(prelanzamiento, tiempo_de_vuelo, destino, tanque_externo, tanque_principal):\n",
    "    return f\"\"\"\n",
    "    Misión: {destino}\n",
    "    Tiempo total de la mismión: {prelanzamiento + tiempo_de_vuelo} Minutos\n",
    "    Combustible disponible: {tanque_externo + tanque_principal} galones\n",
    "    \"\"\"\n",
    "\n",
    "print(reporte(14, 51, \"Marte\", 200000, 300000))"
   ]
  },
  {
   "cell_type": "code",
   "execution_count": 21,
   "metadata": {},
   "outputs": [
    {
     "name": "stdout",
     "output_type": "stream",
     "text": [
      "\n",
      "    Misión: Marte\n",
      "    Tiempo total de la misión: 125 minutos\n",
      "    Combustible disponible: 500000\n",
      "    \n"
     ]
    }
   ],
   "source": [
    "def reporte(destino, *minutos, **reservcombustible):\n",
    "    return f\"\"\"\n",
    "    Misión: {destino}\n",
    "    Tiempo total de la misión: {sum(minutos)} minutos\n",
    "    Combustible disponible: {sum(reservcombustible.values())}\n",
    "    \"\"\"\n",
    "\n",
    "print(reporte(\"Marte\", 30, 95, principal=300000, externo=200000))"
   ]
  },
  {
   "cell_type": "code",
   "execution_count": 26,
   "metadata": {},
   "outputs": [
    {
     "name": "stdout",
     "output_type": "stream",
     "text": [
      "\n",
      "    Misión: Marte\n",
      "    Tiempo total de la misión: 74 minutos\n",
      "    Combustible disponible: 500000\n",
      "    Tanque principal  --> 300000 galones\n",
      "Tanque externo  --> 200000 galones\n",
      "\n"
     ]
    }
   ],
   "source": [
    "def reporte(destino, *minutos, **reservcombustible):\n",
    "    main_report = f\"\"\"\n",
    "    Misión: {destino}\n",
    "    Tiempo total de la misión: {sum(minutos)} minutos\n",
    "    Combustible disponible: {sum(reservcombustible.values())}\n",
    "    \"\"\"\n",
    "    for tanque, galones in reservcombustible.items():\n",
    "        main_report += f\"Tanque {tanque}  --> {galones} galones\\n\"\n",
    "    return main_report\n",
    "\n",
    "print(reporte(\"Marte\", 8, 11, 55, principal=300000,externo=200000))"
   ]
  }
 ],
 "metadata": {
  "interpreter": {
   "hash": "3febe9fd2defa5396c57701dd63da1d1fbde43d5ffc06d09cd56a0f63dfe3f62"
  },
  "kernelspec": {
   "display_name": "Python 3.10.2 64-bit (windows store)",
   "language": "python",
   "name": "python3"
  },
  "language_info": {
   "codemirror_mode": {
    "name": "ipython",
    "version": 3
   },
   "file_extension": ".py",
   "mimetype": "text/x-python",
   "name": "python",
   "nbconvert_exporter": "python",
   "pygments_lexer": "ipython3",
   "version": "3.10.2"
  },
  "orig_nbformat": 4
 },
 "nbformat": 4,
 "nbformat_minor": 2
}
