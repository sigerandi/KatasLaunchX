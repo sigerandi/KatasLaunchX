{
 "cells": [
  {
   "cell_type": "markdown",
   "metadata": {},
   "source": [
    "Kata 3"
   ]
  },
  {
   "cell_type": "markdown",
   "metadata": {},
   "source": [
    "Programa que analiza la velocidad de un asteoride.\n",
    "\n",
    "Advierte del peligro de un asteroide de acuerdo a la velocidad. Cualquier asteroide que supere los 25 km/s activará el estado de alerta."
   ]
  },
  {
   "cell_type": "code",
   "execution_count": 7,
   "metadata": {},
   "outputs": [
    {
     "name": "stdout",
     "output_type": "stream",
     "text": [
      "Iniciando escaneo del asteroide...\n",
      "El asteroide tiene una velocidad de 49km/s\n",
      "El asteroide ha superado la velocidad máxima.\n",
      "ESTADO DE ALERTA\n"
     ]
    }
   ],
   "source": [
    "print(\"Iniciando escaneo del asteroide...\")\n",
    "asteroide = 49\n",
    "if asteroide > 25:\n",
    "    print(\"El asteroide tiene una velocidad de 49km/s\\nEl asteroide ha superado la velocidad máxima.\\nESTADO DE ALERTA\")\n",
    "else:\n",
    "    print(\"El asteroide detectado está dentro de los parámetros permitidos \")\n"
   ]
  },
  {
   "cell_type": "markdown",
   "metadata": {},
   "source": [
    "Programa que analiza la velocidad de un asteroide.\n",
    "\n",
    "Avisa si un asteroide viaja con una velocidad mayor o igual a 20 km/s, con el propósito de que el usuario vea el destello de luz que deja a su paso."
   ]
  },
  {
   "cell_type": "code",
   "execution_count": 2,
   "metadata": {},
   "outputs": [
    {
     "name": "stdout",
     "output_type": "stream",
     "text": [
      "Mira arriba y pide un deseo :D\n"
     ]
    }
   ],
   "source": [
    "asteroide = 19\n",
    "if asteroide > 20:\n",
    "    print(\"Mira arriba y pide un deseo :D\")\n",
    "elif asteroide==20:\n",
    "    print(\"Mira arriba y pide un deseo :D\")\n",
    "else:\n",
    "    print(\"El día esta despejado, hoy se podría ver algo, estaré al pendiente :D\")\n"
   ]
  },
  {
   "cell_type": "markdown",
   "metadata": {},
   "source": [
    "Programa que analiza el tamaño y la velocidad de los asteroides.\n",
    "\n",
    "En caso de que un asteroide de dimensiónes dentro de 25 a 1000 metros entráran a la atmósfera alertara del peligro inminente, teniendo en cuenta que cualquier asteroide menor a esas dimensiones se desintegriaría a medida de entrar a la atmósfera. \n",
    "Mientras que cualquier asteroide con una velocidad mayor o igual a 25 es considerado un peligro; pero si cuenta con una velocidad mayor o igual a 20Km/s\n",
    "se puede avisar al usuario con el fin de ver el destello de luz que deja a su paso.\n",
    "\n"
   ]
  },
  {
   "cell_type": "code",
   "execution_count": 34,
   "metadata": {},
   "outputs": [
    {
     "name": "stdout",
     "output_type": "stream",
     "text": [
      "Iniciando programa\n",
      "\n",
      "Mira arriba y pide un deseo \n"
     ]
    }
   ],
   "source": [
    "VelocidadAst = 20\n",
    "V = VelocidadAst\n",
    "AstSize = 24\n",
    "S = AstSize\n",
    "print(\"Iniciando programa\\n\")\n",
    "\n",
    "if (20 <= V < 25) and ( S < 25):\n",
    "    print(\"Mira arriba y pide un deseo \")\n",
    "elif ( V < 20) or ( S < 25) :\n",
    "    print(\"Sin eventos que requieran tomar medidas\")\n",
    "elif( V >= 25) or ( S >= 25):\n",
    "    print (\"ALERTA\\nASTEROIDE EN CONDICIONES CRÍTICAS\")\n",
    "else:\n",
    "    print(\"Sin eventos que requieran tomar medidas\")\n"
   ]
  }
 ],
 "metadata": {
  "interpreter": {
   "hash": "3febe9fd2defa5396c57701dd63da1d1fbde43d5ffc06d09cd56a0f63dfe3f62"
  },
  "kernelspec": {
   "display_name": "Python 3.10.2 64-bit (windows store)",
   "language": "python",
   "name": "python3"
  },
  "language_info": {
   "codemirror_mode": {
    "name": "ipython",
    "version": 3
   },
   "file_extension": ".py",
   "mimetype": "text/x-python",
   "name": "python",
   "nbconvert_exporter": "python",
   "pygments_lexer": "ipython3",
   "version": "3.10.2"
  },
  "orig_nbformat": 4
 },
 "nbformat": 4,
 "nbformat_minor": 2
}
