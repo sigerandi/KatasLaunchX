{
 "cells": [
  {
   "cell_type": "markdown",
   "metadata": {},
   "source": [
    "KATA 5"
   ]
  },
  {
   "cell_type": "markdown",
   "metadata": {},
   "source": [
    "Calcula la distancia entre 2 planetas."
   ]
  },
  {
   "cell_type": "code",
   "execution_count": 12,
   "metadata": {},
   "outputs": [
    {
     "name": "stdout",
     "output_type": "stream",
     "text": [
      "La distancia entre ambos planetas es de 628949330 kilómetros\n",
      "O 390577533.93 millas\n"
     ]
    }
   ],
   "source": [
    "planetaA = 149597870\n",
    "planetaB = 778547200\n",
    "\n",
    "Km = planetaB - planetaA\n",
    "print(\"La distancia entre ambos planetas es de \" + str(Km) + \" kilómetros\")\n",
    "\n",
    "Mile = Km * 0.621\n",
    "print(\"O \" + str(Mile) + \" millas\")"
   ]
  },
  {
   "cell_type": "markdown",
   "metadata": {},
   "source": [
    "Pide al usuario la distancia del sol a 2 planetas en Km y calcula la distancia entre ellos."
   ]
  },
  {
   "cell_type": "code",
   "execution_count": 16,
   "metadata": {},
   "outputs": [
    {
     "name": "stdout",
     "output_type": "stream",
     "text": [
      "La distancia entre ambos planetas es de 100 kilómetros\n",
      "O 390577533.93 millas\n"
     ]
    }
   ],
   "source": [
    "Planeta1 = input('Introduzca la distancia del sol para el primer planeta en KM')\n",
    "Planeta2 = input('Introduzca la distancia desde el sol para el segundo planeta en KM')\n",
    "\n",
    "Planeta1 = int(Planeta1)\n",
    "Planeta2 = int(Planeta2)\n",
    "\n",
    "Km = Planeta2 - Planeta1\n",
    "print(\"La distancia entre ambos planetas es de \" + str(Km) + \" kilómetros\")\n",
    "\n",
    "\n",
    "Miles = Km * 0.621\n",
    "print(\"O \" + str(abs(Mile)) + \" millas\")"
   ]
  }
 ],
 "metadata": {
  "interpreter": {
   "hash": "3febe9fd2defa5396c57701dd63da1d1fbde43d5ffc06d09cd56a0f63dfe3f62"
  },
  "kernelspec": {
   "display_name": "Python 3.10.2 64-bit (windows store)",
   "language": "python",
   "name": "python3"
  },
  "language_info": {
   "codemirror_mode": {
    "name": "ipython",
    "version": 3
   },
   "file_extension": ".py",
   "mimetype": "text/x-python",
   "name": "python",
   "nbconvert_exporter": "python",
   "pygments_lexer": "ipython3",
   "version": "3.10.2"
  },
  "orig_nbformat": 4
 },
 "nbformat": 4,
 "nbformat_minor": 2
}
